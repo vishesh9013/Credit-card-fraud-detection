{
 "cells": [
  {
   "cell_type": "code",
   "execution_count": 18,
   "metadata": {},
   "outputs": [
    {
     "ename": "ModuleNotFoundError",
     "evalue": "No module named 'imblearn'",
     "output_type": "error",
     "traceback": [
      "\u001b[0;31m---------------------------------------------------------------------------\u001b[0m",
      "\u001b[0;31mModuleNotFoundError\u001b[0m                       Traceback (most recent call last)",
      "\u001b[0;32m<ipython-input-18-4645068a4dec>\u001b[0m in \u001b[0;36m<module>\u001b[0;34m\u001b[0m\n\u001b[1;32m      6\u001b[0m \u001b[0;32mimport\u001b[0m \u001b[0mseaborn\u001b[0m \u001b[0;32mas\u001b[0m \u001b[0msns\u001b[0m\u001b[0;34m\u001b[0m\u001b[0;34m\u001b[0m\u001b[0m\n\u001b[1;32m      7\u001b[0m \u001b[0;32mimport\u001b[0m \u001b[0msklearn\u001b[0m\u001b[0;34m\u001b[0m\u001b[0;34m\u001b[0m\u001b[0m\n\u001b[0;32m----> 8\u001b[0;31m \u001b[0;32mimport\u001b[0m \u001b[0mimblearn\u001b[0m\u001b[0;34m\u001b[0m\u001b[0;34m\u001b[0m\u001b[0m\n\u001b[0m\u001b[1;32m      9\u001b[0m \u001b[0;34m\u001b[0m\u001b[0m\n\u001b[1;32m     10\u001b[0m \u001b[0;32mfrom\u001b[0m \u001b[0msklearn\u001b[0m\u001b[0;34m.\u001b[0m\u001b[0mpreprocessing\u001b[0m \u001b[0;32mimport\u001b[0m \u001b[0mStandardScaler\u001b[0m\u001b[0;34m\u001b[0m\u001b[0;34m\u001b[0m\u001b[0m\n",
      "\u001b[0;31mModuleNotFoundError\u001b[0m: No module named 'imblearn'"
     ]
    }
   ],
   "source": [
    "import sys\n",
    "import scipy\n",
    "import numpy as np\n",
    "import pandas as pd\n",
    "import matplotlib.pyplot as plt\n",
    "import seaborn as sns\n",
    "import sklearn\n",
    "\n",
    "from sklearn.preprocessing import StandardScaler\n",
    "from sklearn import model_selection\n",
    "from sklearn.model_selection import cross_val_score, train_test_split\n",
    "from sklearn.metrics import classification_report, accuracy_score, precision_score, recall_score, confusion_matrix\n",
    "from sklearn.neighbors import KNeighborsClassifier\n",
    "from sklearn.linear_model import LogisticRegression\n",
    "from sklearn.model_selection import GridSearchCV\n",
    "from sklearn.tree import DecisionTreeClassifier\n",
    "from sklearn.metrics import mean_squared_error, precision_score\n",
    "from sklearn.neural_network import MLPClassifier\n"
   ]
  },
  {
   "cell_type": "code",
   "execution_count": 20,
   "metadata": {},
   "outputs": [
    {
     "name": "stdout",
     "output_type": "stream",
     "text": [
      "Imblearn: {} 0.7.0\n"
     ]
    }
   ],
   "source": [
    "import imblearn\n",
    "print('Imblearn: {}', format(imblearn.__version__))"
   ]
  },
  {
   "cell_type": "code",
   "execution_count": 2,
   "metadata": {},
   "outputs": [
    {
     "name": "stdout",
     "output_type": "stream",
     "text": [
      "Python: 3.8.0 (v3.8.0:fa919fdf25, Oct 14 2019, 10:23:27) \n",
      "[Clang 6.0 (clang-600.0.57)]\n",
      "Pandas 1.0.3\n",
      "Sklearn: 0.23.1\n",
      "Seaborn 0.10.1\n"
     ]
    }
   ],
   "source": [
    "print('Python: {}'.format(sys.version))\n",
    "print('Pandas {}'.format(pd.__version__))\n",
    "print('Sklearn: {}'.format(sklearn.__version__))\n",
    "print('Seaborn {}'.format(sns.__version__))"
   ]
  },
  {
   "cell_type": "code",
   "execution_count": 3,
   "metadata": {},
   "outputs": [],
   "source": [
    "data = pd.read_csv(\"creditcard.csv\")\n"
   ]
  },
  {
   "cell_type": "code",
   "execution_count": 4,
   "metadata": {},
   "outputs": [
    {
     "name": "stdout",
     "output_type": "stream",
     "text": [
      "Index(['Time', 'V1', 'V2', 'V3', 'V4', 'V5', 'V6', 'V7', 'V8', 'V9', 'V10',\n",
      "       'V11', 'V12', 'V13', 'V14', 'V15', 'V16', 'V17', 'V18', 'V19', 'V20',\n",
      "       'V21', 'V22', 'V23', 'V24', 'V25', 'V26', 'V27', 'V28', 'Amount',\n",
      "       'Class'],\n",
      "      dtype='object')\n"
     ]
    }
   ],
   "source": [
    "print(data.columns)"
   ]
  },
  {
   "cell_type": "code",
   "execution_count": 5,
   "metadata": {},
   "outputs": [
    {
     "name": "stdout",
     "output_type": "stream",
     "text": [
      "(284807, 31)\n"
     ]
    }
   ],
   "source": [
    "print(data.shape)"
   ]
  },
  {
   "cell_type": "code",
   "execution_count": 14,
   "metadata": {},
   "outputs": [
    {
     "name": "stdout",
     "output_type": "stream",
     "text": [
      "   Time        V1        V2        V3        V4        V5        V6        V7  \\\n",
      "0   0.0 -1.359807 -0.072781  2.536347  1.378155 -0.338321  0.462388  0.239599   \n",
      "1   0.0  1.191857  0.266151  0.166480  0.448154  0.060018 -0.082361 -0.078803   \n",
      "2   1.0 -1.358354 -1.340163  1.773209  0.379780 -0.503198  1.800499  0.791461   \n",
      "3   1.0 -0.966272 -0.185226  1.792993 -0.863291 -0.010309  1.247203  0.237609   \n",
      "4   2.0 -1.158233  0.877737  1.548718  0.403034 -0.407193  0.095921  0.592941   \n",
      "\n",
      "         V8        V9  ...       V21       V22       V23       V24       V25  \\\n",
      "0  0.098698  0.363787  ... -0.018307  0.277838 -0.110474  0.066928  0.128539   \n",
      "1  0.085102 -0.255425  ... -0.225775 -0.638672  0.101288 -0.339846  0.167170   \n",
      "2  0.247676 -1.514654  ...  0.247998  0.771679  0.909412 -0.689281 -0.327642   \n",
      "3  0.377436 -1.387024  ... -0.108300  0.005274 -0.190321 -1.175575  0.647376   \n",
      "4 -0.270533  0.817739  ... -0.009431  0.798278 -0.137458  0.141267 -0.206010   \n",
      "\n",
      "        V26       V27       V28  Amount  Class  \n",
      "0 -0.189115  0.133558 -0.021053  149.62      0  \n",
      "1  0.125895 -0.008983  0.014724    2.69      0  \n",
      "2 -0.139097 -0.055353 -0.059752  378.66      0  \n",
      "3 -0.221929  0.062723  0.061458  123.50      0  \n",
      "4  0.502292  0.219422  0.215153   69.99      0  \n",
      "\n",
      "[5 rows x 31 columns]\n"
     ]
    }
   ],
   "source": [
    "print(data.head())"
   ]
  },
  {
   "cell_type": "code",
   "execution_count": 6,
   "metadata": {},
   "outputs": [
    {
     "name": "stdout",
     "output_type": "stream",
     "text": [
      "                Time            V1            V2            V3            V4  \\\n",
      "count  284807.000000  2.848070e+05  2.848070e+05  2.848070e+05  2.848070e+05   \n",
      "mean    94813.859575  1.165980e-15  3.416908e-16 -1.373150e-15  2.086869e-15   \n",
      "std     47488.145955  1.958696e+00  1.651309e+00  1.516255e+00  1.415869e+00   \n",
      "min         0.000000 -5.640751e+01 -7.271573e+01 -4.832559e+01 -5.683171e+00   \n",
      "25%     54201.500000 -9.203734e-01 -5.985499e-01 -8.903648e-01 -8.486401e-01   \n",
      "50%     84692.000000  1.810880e-02  6.548556e-02  1.798463e-01 -1.984653e-02   \n",
      "75%    139320.500000  1.315642e+00  8.037239e-01  1.027196e+00  7.433413e-01   \n",
      "max    172792.000000  2.454930e+00  2.205773e+01  9.382558e+00  1.687534e+01   \n",
      "\n",
      "                 V5            V6            V7            V8            V9  \\\n",
      "count  2.848070e+05  2.848070e+05  2.848070e+05  2.848070e+05  2.848070e+05   \n",
      "mean   9.604066e-16  1.490107e-15 -5.556467e-16  1.177556e-16 -2.406455e-15   \n",
      "std    1.380247e+00  1.332271e+00  1.237094e+00  1.194353e+00  1.098632e+00   \n",
      "min   -1.137433e+02 -2.616051e+01 -4.355724e+01 -7.321672e+01 -1.343407e+01   \n",
      "25%   -6.915971e-01 -7.682956e-01 -5.540759e-01 -2.086297e-01 -6.430976e-01   \n",
      "50%   -5.433583e-02 -2.741871e-01  4.010308e-02  2.235804e-02 -5.142873e-02   \n",
      "75%    6.119264e-01  3.985649e-01  5.704361e-01  3.273459e-01  5.971390e-01   \n",
      "max    3.480167e+01  7.330163e+01  1.205895e+02  2.000721e+01  1.559499e+01   \n",
      "\n",
      "       ...           V21           V22           V23           V24  \\\n",
      "count  ...  2.848070e+05  2.848070e+05  2.848070e+05  2.848070e+05   \n",
      "mean   ...  1.656562e-16 -3.444850e-16  2.578648e-16  4.471968e-15   \n",
      "std    ...  7.345240e-01  7.257016e-01  6.244603e-01  6.056471e-01   \n",
      "min    ... -3.483038e+01 -1.093314e+01 -4.480774e+01 -2.836627e+00   \n",
      "25%    ... -2.283949e-01 -5.423504e-01 -1.618463e-01 -3.545861e-01   \n",
      "50%    ... -2.945017e-02  6.781943e-03 -1.119293e-02  4.097606e-02   \n",
      "75%    ...  1.863772e-01  5.285536e-01  1.476421e-01  4.395266e-01   \n",
      "max    ...  2.720284e+01  1.050309e+01  2.252841e+01  4.584549e+00   \n",
      "\n",
      "                V25           V26           V27           V28         Amount  \\\n",
      "count  2.848070e+05  2.848070e+05  2.848070e+05  2.848070e+05  284807.000000   \n",
      "mean   5.340915e-16  1.687098e-15 -3.666453e-16 -1.220404e-16      88.349619   \n",
      "std    5.212781e-01  4.822270e-01  4.036325e-01  3.300833e-01     250.120109   \n",
      "min   -1.029540e+01 -2.604551e+00 -2.256568e+01 -1.543008e+01       0.000000   \n",
      "25%   -3.171451e-01 -3.269839e-01 -7.083953e-02 -5.295979e-02       5.600000   \n",
      "50%    1.659350e-02 -5.213911e-02  1.342146e-03  1.124383e-02      22.000000   \n",
      "75%    3.507156e-01  2.409522e-01  9.104512e-02  7.827995e-02      77.165000   \n",
      "max    7.519589e+00  3.517346e+00  3.161220e+01  3.384781e+01   25691.160000   \n",
      "\n",
      "               Class  \n",
      "count  284807.000000  \n",
      "mean        0.001727  \n",
      "std         0.041527  \n",
      "min         0.000000  \n",
      "25%         0.000000  \n",
      "50%         0.000000  \n",
      "75%         0.000000  \n",
      "max         1.000000  \n",
      "\n",
      "[8 rows x 31 columns]\n"
     ]
    }
   ],
   "source": [
    "print(data.describe())"
   ]
  },
  {
   "cell_type": "code",
   "execution_count": 8,
   "metadata": {},
   "outputs": [
    {
     "name": "stdout",
     "output_type": "stream",
     "text": [
      "Fraud Cases: 492\n",
      "Valid Cases: 284315\n"
     ]
    }
   ],
   "source": [
    "Fraud = data[data[\"Class\"]== 1]\n",
    "Valid = data[data[\"Class\"]== 0]\n",
    "\n",
    "print('Fraud Cases: {}'.format(len(Fraud)))\n",
    "print('Valid Cases: {}'.format(len(Valid)))"
   ]
  },
  {
   "cell_type": "code",
   "execution_count": 9,
   "metadata": {},
   "outputs": [
    {
     "data": {
      "text/plain": [
       "0    284315\n",
       "1       492\n",
       "Name: Class, dtype: int64"
      ]
     },
     "execution_count": 9,
     "metadata": {},
     "output_type": "execute_result"
    }
   ],
   "source": [
    "data[\"Class\"].value_counts()"
   ]
  },
  {
   "cell_type": "code",
   "execution_count": 16,
   "metadata": {},
   "outputs": [
    {
     "data": {
      "text/plain": [
       "<matplotlib.axes._subplots.AxesSubplot at 0x7f7f16bf1130>"
      ]
     },
     "execution_count": 16,
     "metadata": {},
     "output_type": "execute_result"
    },
    {
     "data": {
      "image/png": "[encoded data removed]",
      "text/plain": [
       "<Figure size 432x288 with 1 Axes>"
      ]
     },
     "metadata": {
      "needs_background": "light"
     },
     "output_type": "display_data"
    }
   ],
   "source": [
    "data['Class'].value_counts().plot.bar()"
   ]
  },
  {
   "cell_type": "code",
   "execution_count": 13,
   "metadata": {},
   "outputs": [
    {
     "data": {
      "image/png": "[encoded data removed]",
      "text/plain": [
       "<Figure size 864x720 with 2 Axes>"
      ]
     },
     "metadata": {
      "needs_background": "light"
     },
     "output_type": "display_data"
    }
   ],
   "source": [
    "#determining correlation between variables and plotting a correlation matrix\n",
    "corremat = data.corr()\n",
    "fig = plt.figure(figsize = (12,10))\n",
    "sns.heatmap(corremat, vmax = 1.6)\n",
    "plt.show()"
   ]
  },
  {
   "cell_type": "code",
   "execution_count": 25,
   "metadata": {},
   "outputs": [
    {
     "data": {
      "text/html": [
       "<div>\n",
       "<style scoped>\n",
       "    .dataframe tbody tr th:only-of-type {\n",
       "        vertical-align: middle;\n",
       "    }\n",
       "\n",
       "    .dataframe tbody tr th {\n",
       "        vertical-align: top;\n",
       "    }\n",
       "\n",
       "    .dataframe thead th {\n",
       "        text-align: right;\n",
       "    }\n",
       "</style>\n",
       "<table border=\"1\" class=\"dataframe\">\n",
       "  <thead>\n",
       "    <tr style=\"text-align: right;\">\n",
       "      <th></th>\n",
       "      <th>V1</th>\n",
       "      <th>V2</th>\n",
       "      <th>V3</th>\n",
       "      <th>V4</th>\n",
       "      <th>V5</th>\n",
       "      <th>V6</th>\n",
       "      <th>V7</th>\n",
       "      <th>V8</th>\n",
       "      <th>V9</th>\n",
       "      <th>V10</th>\n",
       "      <th>...</th>\n",
       "      <th>V21</th>\n",
       "      <th>V22</th>\n",
       "      <th>V23</th>\n",
       "      <th>V24</th>\n",
       "      <th>V25</th>\n",
       "      <th>V26</th>\n",
       "      <th>V27</th>\n",
       "      <th>V28</th>\n",
       "      <th>Class</th>\n",
       "      <th>Normalized Amount</th>\n",
       "    </tr>\n",
       "  </thead>\n",
       "  <tbody>\n",
       "    <tr>\n",
       "      <th>284802</th>\n",
       "      <td>-11.881118</td>\n",
       "      <td>10.071785</td>\n",
       "      <td>-9.834783</td>\n",
       "      <td>-2.066656</td>\n",
       "      <td>-5.364473</td>\n",
       "      <td>-2.606837</td>\n",
       "      <td>-4.918215</td>\n",
       "      <td>7.305334</td>\n",
       "      <td>1.914428</td>\n",
       "      <td>4.356170</td>\n",
       "      <td>...</td>\n",
       "      <td>0.213454</td>\n",
       "      <td>0.111864</td>\n",
       "      <td>1.014480</td>\n",
       "      <td>-0.509348</td>\n",
       "      <td>1.436807</td>\n",
       "      <td>0.250034</td>\n",
       "      <td>0.943651</td>\n",
       "      <td>0.823731</td>\n",
       "      <td>0</td>\n",
       "      <td>-0.350151</td>\n",
       "    </tr>\n",
       "    <tr>\n",
       "      <th>284803</th>\n",
       "      <td>-0.732789</td>\n",
       "      <td>-0.055080</td>\n",
       "      <td>2.035030</td>\n",
       "      <td>-0.738589</td>\n",
       "      <td>0.868229</td>\n",
       "      <td>1.058415</td>\n",
       "      <td>0.024330</td>\n",
       "      <td>0.294869</td>\n",
       "      <td>0.584800</td>\n",
       "      <td>-0.975926</td>\n",
       "      <td>...</td>\n",
       "      <td>0.214205</td>\n",
       "      <td>0.924384</td>\n",
       "      <td>0.012463</td>\n",
       "      <td>-1.016226</td>\n",
       "      <td>-0.606624</td>\n",
       "      <td>-0.395255</td>\n",
       "      <td>0.068472</td>\n",
       "      <td>-0.053527</td>\n",
       "      <td>0</td>\n",
       "      <td>-0.254117</td>\n",
       "    </tr>\n",
       "    <tr>\n",
       "      <th>284804</th>\n",
       "      <td>1.919565</td>\n",
       "      <td>-0.301254</td>\n",
       "      <td>-3.249640</td>\n",
       "      <td>-0.557828</td>\n",
       "      <td>2.630515</td>\n",
       "      <td>3.031260</td>\n",
       "      <td>-0.296827</td>\n",
       "      <td>0.708417</td>\n",
       "      <td>0.432454</td>\n",
       "      <td>-0.484782</td>\n",
       "      <td>...</td>\n",
       "      <td>0.232045</td>\n",
       "      <td>0.578229</td>\n",
       "      <td>-0.037501</td>\n",
       "      <td>0.640134</td>\n",
       "      <td>0.265745</td>\n",
       "      <td>-0.087371</td>\n",
       "      <td>0.004455</td>\n",
       "      <td>-0.026561</td>\n",
       "      <td>0</td>\n",
       "      <td>-0.081839</td>\n",
       "    </tr>\n",
       "    <tr>\n",
       "      <th>284805</th>\n",
       "      <td>-0.240440</td>\n",
       "      <td>0.530483</td>\n",
       "      <td>0.702510</td>\n",
       "      <td>0.689799</td>\n",
       "      <td>-0.377961</td>\n",
       "      <td>0.623708</td>\n",
       "      <td>-0.686180</td>\n",
       "      <td>0.679145</td>\n",
       "      <td>0.392087</td>\n",
       "      <td>-0.399126</td>\n",
       "      <td>...</td>\n",
       "      <td>0.265245</td>\n",
       "      <td>0.800049</td>\n",
       "      <td>-0.163298</td>\n",
       "      <td>0.123205</td>\n",
       "      <td>-0.569159</td>\n",
       "      <td>0.546668</td>\n",
       "      <td>0.108821</td>\n",
       "      <td>0.104533</td>\n",
       "      <td>0</td>\n",
       "      <td>-0.313249</td>\n",
       "    </tr>\n",
       "    <tr>\n",
       "      <th>284806</th>\n",
       "      <td>-0.533413</td>\n",
       "      <td>-0.189733</td>\n",
       "      <td>0.703337</td>\n",
       "      <td>-0.506271</td>\n",
       "      <td>-0.012546</td>\n",
       "      <td>-0.649617</td>\n",
       "      <td>1.577006</td>\n",
       "      <td>-0.414650</td>\n",
       "      <td>0.486180</td>\n",
       "      <td>-0.915427</td>\n",
       "      <td>...</td>\n",
       "      <td>0.261057</td>\n",
       "      <td>0.643078</td>\n",
       "      <td>0.376777</td>\n",
       "      <td>0.008797</td>\n",
       "      <td>-0.473649</td>\n",
       "      <td>-0.818267</td>\n",
       "      <td>-0.002415</td>\n",
       "      <td>0.013649</td>\n",
       "      <td>0</td>\n",
       "      <td>0.514355</td>\n",
       "    </tr>\n",
       "  </tbody>\n",
       "</table>\n",
       "<p>5 rows × 30 columns</p>\n",
       "</div>"
      ],
      "text/plain": [
       "               V1         V2        V3        V4        V5        V6  \\\n",
       "284802 -11.881118  10.071785 -9.834783 -2.066656 -5.364473 -2.606837   \n",
       "284803  -0.732789  -0.055080  2.035030 -0.738589  0.868229  1.058415   \n",
       "284804   1.919565  -0.301254 -3.249640 -0.557828  2.630515  3.031260   \n",
       "284805  -0.240440   0.530483  0.702510  0.689799 -0.377961  0.623708   \n",
       "284806  -0.533413  -0.189733  0.703337 -0.506271 -0.012546 -0.649617   \n",
       "\n",
       "              V7        V8        V9       V10  ...       V21       V22  \\\n",
       "284802 -4.918215  7.305334  1.914428  4.356170  ...  0.213454  0.111864   \n",
       "284803  0.024330  0.294869  0.584800 -0.975926  ...  0.214205  0.924384   \n",
       "284804 -0.296827  0.708417  0.432454 -0.484782  ...  0.232045  0.578229   \n",
       "284805 -0.686180  0.679145  0.392087 -0.399126  ...  0.265245  0.800049   \n",
       "284806  1.577006 -0.414650  0.486180 -0.915427  ...  0.261057  0.643078   \n",
       "\n",
       "             V23       V24       V25       V26       V27       V28  Class  \\\n",
       "284802  1.014480 -0.509348  1.436807  0.250034  0.943651  0.823731      0   \n",
       "284803  0.012463 -1.016226 -0.606624 -0.395255  0.068472 -0.053527      0   \n",
       "284804 -0.037501  0.640134  0.265745 -0.087371  0.004455 -0.026561      0   \n",
       "284805 -0.163298  0.123205 -0.569159  0.546668  0.108821  0.104533      0   \n",
       "284806  0.376777  0.008797 -0.473649 -0.818267 -0.002415  0.013649      0   \n",
       "\n",
       "        Normalized Amount  \n",
       "284802          -0.350151  \n",
       "284803          -0.254117  \n",
       "284804          -0.081839  \n",
       "284805          -0.313249  \n",
       "284806           0.514355  \n",
       "\n",
       "[5 rows x 30 columns]"
      ]
     },
     "execution_count": 25,
     "metadata": {},
     "output_type": "execute_result"
    }
   ],
   "source": [
    "#feature scaling using Standard Scalar\n",
    "data['Normalized Amount'] = StandardScaler().fit_transform(data['Amount'].values.reshape(-1,1))\n",
    "data = data.drop(['Amount'], axis=1)\n",
    "data = data.drop(['Time'], axis=1)\n",
    "data.tail()"
   ]
  },
  {
   "cell_type": "code",
   "execution_count": 26,
   "metadata": {},
   "outputs": [
    {
     "name": "stdout",
     "output_type": "stream",
     "text": [
      "Index(['V1', 'V2', 'V3', 'V4', 'V5', 'V6', 'V7', 'V8', 'V9', 'V10', 'V11',\n",
      "       'V12', 'V13', 'V14', 'V15', 'V16', 'V17', 'V18', 'V19', 'V20', 'V21',\n",
      "       'V22', 'V23', 'V24', 'V25', 'V26', 'V27', 'V28', 'Normalized Amount'],\n",
      "      dtype='object')\n",
      "Index(['Class'], dtype='object')\n"
     ]
    }
   ],
   "source": [
    "#Seperating the target class from the dataframe\n",
    "X = data.iloc[:, data.columns != 'Class']\n",
    "Y = data.iloc[:, data.columns == 'Class']\n",
    "\n",
    "print(X.columns)\n",
    "print(Y.columns)"
   ]
  },
  {
   "cell_type": "code",
   "execution_count": 48,
   "metadata": {},
   "outputs": [],
   "source": [
    "#splitting data into training and testing\n",
    "X_train, X_test, Y_train, Y_test = model_selection.train_test_split(X, Y, test_size=0.3, random_state=0, shuffle=True, stratify=Y)"
   ]
  },
  {
   "cell_type": "code",
   "execution_count": 31,
   "metadata": {},
   "outputs": [],
   "source": [
    "#Applying KNN algorithm \n",
    "model = KNeighborsClassifier(n_neighbors = 5, weights='distance')\n",
    "model.fit(X_train, Y_train.values.ravel())\n",
    "prediction = model.predict(X_test)\n",
    "recall = recall_score(Y_test, prediction)\n",
    "precision = precision_score(Y_test, prediction)\n"
   ]
  },
  {
   "cell_type": "code",
   "execution_count": null,
   "metadata": {},
   "outputs": [],
   "source": [
    "from sklearn.metrics import precision_recall_curve\n",
    "from sklearn.metrics import plot_precision_recall_curve\n",
    "import matplotlib.pyplot as plt\n",
    "from sklearn.metrics import average_precision_score\n",
    "\n",
    "average_precision = average_precision_score(Y_test, prediction)\n",
    "\n",
    "disp = plot_precision_recall_curve(classifier, X_test, Y_test)\n",
    "disp.ax_.set_title('2-class Precision-Recall curve: '\n",
    "                   'AP={0:0.2f}'.format(average_precision))"
   ]
  },
  {
   "cell_type": "code",
   "execution_count": 32,
   "metadata": {},
   "outputs": [
    {
     "name": "stdout",
     "output_type": "stream",
     "text": [
      "[[85289     7]\n",
      " [   39   108]]\n",
      "Recall Score: 0.7346938775510204\n",
      "Precision score 0.9391304347826087\n",
      "              precision    recall  f1-score   support\n",
      "\n",
      "           0       1.00      1.00      1.00     85296\n",
      "           1       0.94      0.73      0.82       147\n",
      "\n",
      "    accuracy                           1.00     85443\n",
      "   macro avg       0.97      0.87      0.91     85443\n",
      "weighted avg       1.00      1.00      1.00     85443\n",
      "\n"
     ]
    }
   ],
   "source": [
    "cm = confusion_matrix(Y_test, prediction)\n",
    "print(cm)\n",
    "print('Recall Score: {}'.format(recall))\n",
    "print('Precision score {}'.format(precision))\n",
    "print(classification_report(Y_test, prediction))\n"
   ]
  },
  {
   "cell_type": "code",
   "execution_count": 78,
   "metadata": {},
   "outputs": [],
   "source": [
    "#Applying Decision tree algorithm\n",
    "classifier = DecisionTreeClassifier(criterion='gini', splitter='best', random_state=0, \n",
    "                                    min_samples_leaf=1, min_samples_split=2)\n",
    "\n",
    "classifier.fit(X_train,Y_train)\n",
    "prediction = classifier.predict(X_test)\n",
    "recall = recall_score(Y_test, prediction)\n",
    "precision = precision_score(Y_test, prediction)\n"
   ]
  },
  {
   "cell_type": "code",
   "execution_count": 79,
   "metadata": {},
   "outputs": [
    {
     "name": "stdout",
     "output_type": "stream",
     "text": [
      "[[56839    22]\n",
      " [   26    75]]\n",
      "Recall Score: 0.7425742574257426\n",
      "Precision score 0.7731958762886598\n",
      "              precision    recall  f1-score   support\n",
      "\n",
      "           0       1.00      1.00      1.00     56861\n",
      "           1       0.77      0.74      0.76       101\n",
      "\n",
      "    accuracy                           1.00     56962\n",
      "   macro avg       0.89      0.87      0.88     56962\n",
      "weighted avg       1.00      1.00      1.00     56962\n",
      "\n"
     ]
    }
   ],
   "source": [
    "cm = confusion_matrix(Y_test, prediction)\n",
    "print(cm)\n",
    "print('Recall Score: {}'.format(recall))\n",
    "print('Precision score {}'.format(precision))\n",
    "print(classification_report(Y_test, prediction))"
   ]
  },
  {
   "cell_type": "code",
   "execution_count": 114,
   "metadata": {},
   "outputs": [],
   "source": [
    "#Applying Random forest\n",
    "from sklearn.ensemble import RandomForestClassifier\n",
    "classifier = RandomForestClassifier(random_state = 0, n_estimators = 100,\n",
    "                                    criterion = 'entropy')\n",
    "classifier.fit(X_train, Y_train.values.ravel())\n",
    "prediction = classifier.predict(X_test)\n",
    "recall = recall_score(Y_test, prediction)\n",
    "precision = precision_score(Y_test, prediction)\n",
    "\n"
   ]
  },
  {
   "cell_type": "code",
   "execution_count": 116,
   "metadata": {},
   "outputs": [
    {
     "name": "stdout",
     "output_type": "stream",
     "text": [
      "0.9586776859504132\n",
      "0.9996488887328394\n"
     ]
    },
    {
     "data": {
      "text/plain": [
       "Text(0.5, 1.0, '2-class Precision-Recall curve: AP=0.79')"
      ]
     },
     "execution_count": 116,
     "metadata": {},
     "output_type": "execute_result"
    },
    {
     "data": {
      "image/png": "[encoded data removed]",
      "text/plain": [
       "<Figure size 432x288 with 1 Axes>"
      ]
     },
     "metadata": {
      "needs_background": "light"
     },
     "output_type": "display_data"
    }
   ],
   "source": [
    "from sklearn.metrics import precision_recall_curve\n",
    "from sklearn.metrics import precision_score, accuracy_score\n",
    "from sklearn.metrics import plot_precision_recall_curve\n",
    "import matplotlib.pyplot as plt\n",
    "from sklearn.metrics import average_precision_score\n",
    "\n",
    "average_precision = average_precision_score(Y_test, prediction)\n",
    "precision = precision_score(Y_test, prediction)\n",
    "accuracy = accuracy_score(Y_test, prediction)\n",
    "print(precision)\n",
    "print(accuracy)\n",
    "\n",
    "disp = plot_precision_recall_curve(classifier, X_test, Y_test)\n",
    "disp.ax_.set_title('2-class Precision-Recall curve: '\n",
    "                   'AP={0:0.2f}'.format(average_precision))"
   ]
  },
  {
   "cell_type": "code",
   "execution_count": 119,
   "metadata": {},
   "outputs": [
    {
     "name": "stdout",
     "output_type": "stream",
     "text": [
      "Confusion Matrix on training set\n",
      "Predicted      0    1    All\n",
      "True                        \n",
      "0          85297    5  85302\n",
      "1             25  116    141\n",
      "All        85322  121  85443\n"
     ]
    }
   ],
   "source": [
    "print('Confusion Matrix on training set')\n",
    "print(pd.crosstab(Y_test.values.ravel(), prediction, rownames=['True'], colnames=['Predicted'], margins=True))"
   ]
  },
  {
   "cell_type": "code",
   "execution_count": 120,
   "metadata": {},
   "outputs": [
    {
     "data": {
      "text/plain": [
       "0.1773049645390071"
      ]
     },
     "execution_count": 120,
     "metadata": {},
     "output_type": "execute_result"
    }
   ],
   "source": [
    "25/141"
   ]
  },
  {
   "cell_type": "code",
   "execution_count": 23,
   "metadata": {},
   "outputs": [
    {
     "name": "stdout",
     "output_type": "stream",
     "text": [
      "[[85289     7]\n",
      " [   34   113]]\n",
      "Recall Score: 0.7687074829931972\n",
      "Precision score 0.9416666666666667\n",
      "              precision    recall  f1-score   support\n",
      "\n",
      "           0       1.00      1.00      1.00     85296\n",
      "           1       0.94      0.77      0.85       147\n",
      "\n",
      "    accuracy                           1.00     85443\n",
      "   macro avg       0.97      0.88      0.92     85443\n",
      "weighted avg       1.00      1.00      1.00     85443\n",
      "\n"
     ]
    }
   ],
   "source": [
    "cm = confusion_matrix(Y_test, prediction)\n",
    "print(cm)\n",
    "print('Recall Score: {}'.format(recall))\n",
    "print('Precision score {}'.format(precision))\n",
    "print(classification_report(Y_test, prediction))"
   ]
  },
  {
   "cell_type": "code",
   "execution_count": 4,
   "metadata": {},
   "outputs": [
    {
     "name": "stderr",
     "output_type": "stream",
     "text": [
      "Using TensorFlow backend.\n"
     ]
    }
   ],
   "source": [
    "#Applying neural network using tensorflow and keras\n",
    "import tensorflow as tf\n",
    "from tensorflow import keras\n",
    "from keras.models import Sequential\n",
    "from keras.layers import Dense"
   ]
  },
  {
   "cell_type": "code",
   "execution_count": 16,
   "metadata": {},
   "outputs": [
    {
     "name": "stdout",
     "output_type": "stream",
     "text": [
      "Train on 199364 samples, validate on 85443 samples\n",
      "Epoch 1/50\n",
      "199364/199364 [==============================] - 38s 191us/step - loss: 0.0072 - precision_2: 0.5651 - val_loss: 0.0034 - val_precision_2: 0.8384\n",
      "Epoch 2/50\n",
      "199364/199364 [==============================] - 38s 192us/step - loss: 0.0032 - precision_2: 0.8378 - val_loss: 0.0034 - val_precision_2: 0.8397\n",
      "Epoch 3/50\n",
      "199364/199364 [==============================] - 37s 185us/step - loss: 0.0030 - precision_2: 0.8402 - val_loss: 0.0037 - val_precision_2: 0.8405\n",
      "Epoch 4/50\n",
      "199364/199364 [==============================] - 38s 192us/step - loss: 0.0029 - precision_2: 0.8417 - val_loss: 0.0033 - val_precision_2: 0.8421\n",
      "Epoch 5/50\n",
      "199364/199364 [==============================] - 38s 190us/step - loss: 0.0029 - precision_2: 0.8444 - val_loss: 0.0033 - val_precision_2: 0.8430\n",
      "Epoch 6/50\n",
      "199364/199364 [==============================] - 38s 188us/step - loss: 0.0027 - precision_2: 0.8432 - val_loss: 0.0034 - val_precision_2: 0.8462\n",
      "Epoch 7/50\n",
      "199364/199364 [==============================] - 37s 186us/step - loss: 0.0026 - precision_2: 0.8479 - val_loss: 0.0036 - val_precision_2: 0.8493\n",
      "Epoch 8/50\n",
      "199364/199364 [==============================] - 37s 184us/step - loss: 0.0027 - precision_2: 0.8516 - val_loss: 0.0032 - val_precision_2: 0.8518\n",
      "Epoch 9/50\n",
      "199364/199364 [==============================] - 38s 188us/step - loss: 0.0026 - precision_2: 0.8517 - val_loss: 0.0033 - val_precision_2: 0.8529\n",
      "Epoch 10/50\n",
      "199364/199364 [==============================] - 38s 189us/step - loss: 0.0026 - precision_2: 0.8538 - val_loss: 0.0040 - val_precision_2: 0.8552\n",
      "Epoch 11/50\n",
      "199364/199364 [==============================] - 3011s 15ms/step - loss: 0.0026 - precision_2: 0.8569 - val_loss: 0.0041 - val_precision_2: 0.8576\n",
      "Epoch 12/50\n",
      "199364/199364 [==============================] - 39s 196us/step - loss: 0.0026 - precision_2: 0.8576 - val_loss: 0.0036 - val_precision_2: 0.8581\n",
      "Epoch 13/50\n",
      "199364/199364 [==============================] - 37s 188us/step - loss: 0.0025 - precision_2: 0.8583 - val_loss: 0.0036 - val_precision_2: 0.8590\n",
      "Epoch 14/50\n",
      "199364/199364 [==============================] - 39s 196us/step - loss: 0.0026 - precision_2: 0.8594 - val_loss: 0.0035 - val_precision_2: 0.8603\n",
      "Epoch 15/50\n",
      "199364/199364 [==============================] - 38s 188us/step - loss: 0.0025 - precision_2: 0.8609 - val_loss: 0.0038 - val_precision_2: 0.8610\n",
      "Epoch 16/50\n",
      "199364/199364 [==============================] - 38s 193us/step - loss: 0.0025 - precision_2: 0.8614 - val_loss: 0.0036 - val_precision_2: 0.8615\n",
      "Epoch 17/50\n",
      "199364/199364 [==============================] - 39s 196us/step - loss: 0.0025 - precision_2: 0.8617 - val_loss: 0.0034 - val_precision_2: 0.8615\n",
      "Epoch 18/50\n",
      "199364/199364 [==============================] - 37s 187us/step - loss: 0.0025 - precision_2: 0.8620 - val_loss: 0.0035 - val_precision_2: 0.8623\n",
      "Epoch 19/50\n",
      "199364/199364 [==============================] - 38s 189us/step - loss: 0.0025 - precision_2: 0.8626 - val_loss: 0.0035 - val_precision_2: 0.8629\n",
      "Epoch 20/50\n",
      "199364/199364 [==============================] - 38s 191us/step - loss: 0.0025 - precision_2: 0.8634 - val_loss: 0.0039 - val_precision_2: 0.8637\n",
      "Epoch 21/50\n",
      "199364/199364 [==============================] - 37s 187us/step - loss: 0.0024 - precision_2: 0.8641 - val_loss: 0.0045 - val_precision_2: 0.8639\n",
      "Epoch 22/50\n",
      "199364/199364 [==============================] - 38s 190us/step - loss: 0.0024 - precision_2: 0.8643 - val_loss: 0.0062 - val_precision_2: 0.8645\n",
      "Epoch 23/50\n",
      "199364/199364 [==============================] - 37s 187us/step - loss: 0.0025 - precision_2: 0.8645 - val_loss: 0.0041 - val_precision_2: 0.8647\n",
      "Epoch 24/50\n",
      "199364/199364 [==============================] - 39s 196us/step - loss: 0.0024 - precision_2: 0.8650 - val_loss: 0.0043 - val_precision_2: 0.8653\n",
      "Epoch 25/50\n",
      "199364/199364 [==============================] - 38s 190us/step - loss: 0.0023 - precision_2: 0.8650 - val_loss: 0.0048 - val_precision_2: 0.8656\n",
      "Epoch 26/50\n",
      "199364/199364 [==============================] - 38s 191us/step - loss: 0.0024 - precision_2: 0.8660 - val_loss: 0.0052 - val_precision_2: 0.8658\n",
      "Epoch 27/50\n",
      "199364/199364 [==============================] - 39s 195us/step - loss: 0.0024 - precision_2: 0.8661 - val_loss: 0.0054 - val_precision_2: 0.8661\n",
      "Epoch 28/50\n",
      "199364/199364 [==============================] - 39s 198us/step - loss: 0.0023 - precision_2: 0.8663 - val_loss: 0.0067 - val_precision_2: 0.8661\n",
      "Epoch 29/50\n",
      "199364/199364 [==============================] - 41s 204us/step - loss: 0.0024 - precision_2: 0.8664 - val_loss: 0.0051 - val_precision_2: 0.8663\n",
      "Epoch 30/50\n",
      "199364/199364 [==============================] - 42s 213us/step - loss: 0.0022 - precision_2: 0.8665 - val_loss: 0.0042 - val_precision_2: 0.8663\n",
      "Epoch 31/50\n",
      "199364/199364 [==============================] - 38s 192us/step - loss: 0.0024 - precision_2: 0.8662 - val_loss: 0.0046 - val_precision_2: 0.8661\n",
      "Epoch 32/50\n",
      "199364/199364 [==============================] - 39s 198us/step - loss: 0.0024 - precision_2: 0.8661 - val_loss: 0.0045 - val_precision_2: 0.8658\n",
      "Epoch 33/50\n",
      "199364/199364 [==============================] - 39s 198us/step - loss: 0.0022 - precision_2: 0.8657 - val_loss: 0.0051 - val_precision_2: 0.8661\n",
      "Epoch 34/50\n",
      "199364/199364 [==============================] - 38s 191us/step - loss: 0.0023 - precision_2: 0.8661 - val_loss: 0.0041 - val_precision_2: 0.8659\n",
      "Epoch 35/50\n",
      "199364/199364 [==============================] - 38s 190us/step - loss: 0.0023 - precision_2: 0.8661 - val_loss: 0.0060 - val_precision_2: 0.8660\n",
      "Epoch 36/50\n",
      "199364/199364 [==============================] - 42s 212us/step - loss: 0.0023 - precision_2: 0.8661 - val_loss: 0.0044 - val_precision_2: 0.8658\n",
      "Epoch 37/50\n",
      "199364/199364 [==============================] - 39s 197us/step - loss: 0.0023 - precision_2: 0.8654 - val_loss: 0.0057 - val_precision_2: 0.8656\n",
      "Epoch 38/50\n",
      "199364/199364 [==============================] - 39s 195us/step - loss: 0.0023 - precision_2: 0.8654 - val_loss: 0.0053 - val_precision_2: 0.8657\n",
      "Epoch 39/50\n",
      "199364/199364 [==============================] - 39s 195us/step - loss: 0.0022 - precision_2: 0.8654 - val_loss: 0.0047 - val_precision_2: 0.8657\n",
      "Epoch 40/50\n",
      "199364/199364 [==============================] - 39s 194us/step - loss: 0.0022 - precision_2: 0.8658 - val_loss: 0.0050 - val_precision_2: 0.8654\n",
      "Epoch 41/50\n",
      "199364/199364 [==============================] - 37s 186us/step - loss: 0.0022 - precision_2: 0.8653 - val_loss: 0.0045 - val_precision_2: 0.8652\n",
      "Epoch 42/50\n",
      "199364/199364 [==============================] - 37s 185us/step - loss: 0.0021 - precision_2: 0.8652 - val_loss: 0.0044 - val_precision_2: 0.8649\n",
      "Epoch 43/50\n",
      "199364/199364 [==============================] - 38s 191us/step - loss: 0.0023 - precision_2: 0.8648 - val_loss: 0.0061 - val_precision_2: 0.8646\n",
      "Epoch 44/50\n",
      "199364/199364 [==============================] - 38s 188us/step - loss: 0.0022 - precision_2: 0.8646 - val_loss: 0.0051 - val_precision_2: 0.8644\n",
      "Epoch 45/50\n",
      "199364/199364 [==============================] - 38s 188us/step - loss: 0.0022 - precision_2: 0.8644 - val_loss: 0.0054 - val_precision_2: 0.8643\n",
      "Epoch 46/50\n",
      "199364/199364 [==============================] - 38s 189us/step - loss: 0.0023 - precision_2: 0.8641 - val_loss: 0.0054 - val_precision_2: 0.8638\n",
      "Epoch 47/50\n",
      "199364/199364 [==============================] - 39s 193us/step - loss: 0.0022 - precision_2: 0.8640 - val_loss: 0.0047 - val_precision_2: 0.8638\n",
      "Epoch 48/50\n",
      "199364/199364 [==============================] - 38s 193us/step - loss: 0.0022 - precision_2: 0.8634 - val_loss: 0.0061 - val_precision_2: 0.8633\n",
      "Epoch 49/50\n",
      "199364/199364 [==============================] - 40s 201us/step - loss: 0.0022 - precision_2: 0.8633 - val_loss: 0.0048 - val_precision_2: 0.8632\n",
      "Epoch 50/50\n",
      "199364/199364 [==============================] - 39s 194us/step - loss: 0.0021 - precision_2: 0.8632 - val_loss: 0.0095 - val_precision_2: 0.8632\n"
     ]
    }
   ],
   "source": [
    "#Initializing the ANN\n",
    "ann_classifier = Sequential()\n",
    "\n",
    "#Adding the input layer and first hidden layer\n",
    "ann_classifier.add(Dense(units=15, kernel_initializer='uniform', activation='relu', input_dim=29))\n",
    "\n",
    "# Adding the second hidden layer\n",
    "ann_classifier.add(Dense(units=15, kernel_initializer = 'uniform', activation = 'relu'))\n",
    "\n",
    "#Adding the output layer\n",
    "ann_classifier.add(Dense(units=1, kernel_initializer = 'uniform', activation = 'sigmoid'))\n",
    "\n",
    "# Compiling the ANN\n",
    "ann_classifier.compile(optimizer = 'adam', loss = 'binary_crossentropy', metrics = [tf.keras.metrics.Precision()])\n",
    "\n",
    "# Fitting the ANN to the Training set\n",
    "history = ann_classifier.fit(X_train, Y_train, batch_size = 10, epochs = 50, verbose = 1, validation_data=(X_test, Y_test))"
   ]
  },
  {
   "cell_type": "code",
   "execution_count": 17,
   "metadata": {},
   "outputs": [
    {
     "name": "stdout",
     "output_type": "stream",
     "text": [
      "dict_keys(['val_loss', 'val_precision_2', 'loss', 'precision_2'])\n"
     ]
    }
   ],
   "source": [
    "print(history.history.keys())"
   ]
  },
  {
   "cell_type": "code",
   "execution_count": 18,
   "metadata": {},
   "outputs": [
    {
     "data": {
      "image/png": "[encoded data removed]",
      "text/plain": [
       "<Figure size 432x288 with 1 Axes>"
      ]
     },
     "metadata": {
      "needs_background": "light"
     },
     "output_type": "display_data"
    }
   ],
   "source": [
    "\n",
    "plt.plot(history.history['precision_2'])\n",
    "plt.plot(history.history['val_precision_2'])\n",
    "plt.title('model accuracy')\n",
    "plt.ylabel('precision')\n",
    "plt.xlabel('epoch')\n",
    "plt.legend(['train', 'test'], loc='upper left')\n",
    "plt.show()"
   ]
  },
  {
   "cell_type": "code",
   "execution_count": 19,
   "metadata": {},
   "outputs": [
    {
     "data": {
      "image/png": "[encoded data removed]",
      "text/plain": [
       "<Figure size 432x288 with 1 Axes>"
      ]
     },
     "metadata": {
      "needs_background": "light"
     },
     "output_type": "display_data"
    }
   ],
   "source": [
    "# summarize history for loss\n",
    "plt.plot(history.history['loss'])\n",
    "plt.plot(history.history['val_loss'])\n",
    "plt.title('model loss')\n",
    "plt.ylabel('loss')\n",
    "plt.xlabel('epoch')\n",
    "plt.legend(['train', 'test'], loc='upper left')\n",
    "plt.show()"
   ]
  },
  {
   "cell_type": "code",
   "execution_count": 34,
   "metadata": {},
   "outputs": [
    {
     "name": "stdout",
     "output_type": "stream",
     "text": [
      "85443/85443 [==============================] - 2s 18us/step\n"
     ]
    },
    {
     "data": {
      "text/plain": [
       "[0.0038162737201217164, 0.9994382262229919]"
      ]
     },
     "execution_count": 34,
     "metadata": {},
     "output_type": "execute_result"
    }
   ],
   "source": [
    "prediction = ann_classifier.predict(X_test)\n",
    "prediction = (prediction>0.5)\n",
    "score = ann_classifier.evaluate(X_test, Y_test)\n",
    "score"
   ]
  },
  {
   "cell_type": "code",
   "execution_count": 35,
   "metadata": {},
   "outputs": [
    {
     "name": "stdout",
     "output_type": "stream",
     "text": [
      "Precision score 0.8666666666666667\n",
      "[[85278    18]\n",
      " [   30   117]]\n",
      "              precision    recall  f1-score   support\n",
      "\n",
      "           0       1.00      1.00      1.00     85296\n",
      "           1       0.87      0.80      0.83       147\n",
      "\n",
      "    accuracy                           1.00     85443\n",
      "   macro avg       0.93      0.90      0.91     85443\n",
      "weighted avg       1.00      1.00      1.00     85443\n",
      "\n"
     ]
    }
   ],
   "source": [
    "precision = precision_score(Y_test, prediction)\n",
    "print('Precision score {}'.format(precision))\n",
    "print(confusion_matrix(Y_test, prediction))\n",
    "print(classification_report(Y_test, prediction))\n"
   ]
  },
  {
   "cell_type": "markdown",
   "metadata": {},
   "source": [
    "## Using SMOTE to balance the dataset"
   ]
  },
  {
   "cell_type": "code",
   "execution_count": 55,
   "metadata": {},
   "outputs": [],
   "source": [
    "from imblearn.over_sampling import SMOTE\n",
    "import pandas as pd\n",
    "sm = SMOTE(random_state=42)\n"
   ]
  },
  {
   "cell_type": "code",
   "execution_count": 79,
   "metadata": {},
   "outputs": [],
   "source": [
    "X_train, X_test, Y_train, Y_test = train_test_split(X, Y, test_size=0.3, shuffle=True)"
   ]
  },
  {
   "cell_type": "code",
   "execution_count": 106,
   "metadata": {},
   "outputs": [],
   "source": [
    "X_train_new, Y_train_new = sm.fit_sample(X_train,Y_train)"
   ]
  },
  {
   "cell_type": "code",
   "execution_count": 104,
   "metadata": {},
   "outputs": [
    {
     "data": {
      "text/plain": [
       "<matplotlib.axes._subplots.AxesSubplot at 0x7f7ef832d6a0>"
      ]
     },
     "execution_count": 104,
     "metadata": {},
     "output_type": "execute_result"
    },
    {
     "data": {
      "image/png": "[encoded data removed]",
      "text/plain": [
       "<Figure size 432x288 with 1 Axes>"
      ]
     },
     "metadata": {
      "needs_background": "light"
     },
     "output_type": "display_data"
    }
   ],
   "source": [
    "Y_train_new['Class'].value_counts().plot.bar()"
   ]
  },
  {
   "cell_type": "markdown",
   "metadata": {},
   "source": [
    "### Now we can observe the dataset is balanced and the positive and negative class are more or less equal"
   ]
  },
  {
   "cell_type": "code",
   "execution_count": 121,
   "metadata": {},
   "outputs": [],
   "source": [
    "#Applying Random forest\n",
    "from sklearn.ensemble import RandomForestClassifier\n",
    "rf_classifier = RandomForestClassifier(random_state = 0, n_estimators = 100,\n",
    "                                    criterion = 'entropy')\n",
    "rf_classifier.fit(X_train_new, Y_train_new.values.ravel())\n",
    "train_pred = rf_classifier.predict(X_train_new)\n",
    "test_pred = rf_classifier.predict(X_test)\n",
    "\n"
   ]
  },
  {
   "cell_type": "code",
   "execution_count": 124,
   "metadata": {},
   "outputs": [
    {
     "name": "stdout",
     "output_type": "stream",
     "text": [
      "1.0\n",
      "0.851063829787234\n"
     ]
    }
   ],
   "source": [
    "from sklearn.metrics import accuracy_score, precision_score\n",
    "train_acc = accuracy_score(train_pred, Y_train_new)\n",
    "test_acc = accuracy_score(test_pred, Y_test)\n",
    "train_pre = precision_score(train_pred, Y_train_new)\n",
    "test_pre = precision_score(test_pred, Y_test)\n",
    "\n",
    "print(train_pre)\n",
    "print(test_pre)"
   ]
  },
  {
   "cell_type": "code",
   "execution_count": 130,
   "metadata": {},
   "outputs": [
    {
     "name": "stdout",
     "output_type": "stream",
     "text": [
      "Confusio Matrix\n",
      "Predicted      0    1    All\n",
      "True                        \n",
      "0          85281   21  85302\n",
      "1             21  120    141\n",
      "All        85302  141  85443\n"
     ]
    }
   ],
   "source": [
    "print('Confusio Matrix')\n",
    "print(pd.crosstab(Y_test.values.ravel(), test_pred, rownames=['True'], colnames=['Predicted'], margins=True))"
   ]
  },
  {
   "cell_type": "code",
   "execution_count": 132,
   "metadata": {},
   "outputs": [
    {
     "data": {
      "text/plain": [
       "0.14893617021276595"
      ]
     },
     "execution_count": 132,
     "metadata": {},
     "output_type": "execute_result"
    }
   ],
   "source": [
    "21/141"
   ]
  },
  {
   "cell_type": "markdown",
   "metadata": {},
   "source": [
    "## Conclusion\n",
    "\n",
    "Error in prediction can be made in two ways:\n",
    "1. Classifying fraud as non-fraud\n",
    "2. Classifying non-fraud as fraud\n",
    "\n",
    "The first error is more costlier than th first one in this case.\n",
    "This depends solely on the classification problem statement therefore we have to choose the evaluation metric accordingly.\n"
   ]
  }
 ],
 "metadata": {
  "kernelspec": {
   "display_name": "Python 3",
   "language": "python",
   "name": "python3"
  },
  "language_info": {
   "codemirror_mode": {
    "name": "ipython",
    "version": 3
   },
   "file_extension": ".py",
   "mimetype": "text/x-python",
   "name": "python",
   "nbconvert_exporter": "python",
   "pygments_lexer": "ipython3",
   "version": "3.8.0"
  }
 },
 "nbformat": 4,
 "nbformat_minor": 2
}
